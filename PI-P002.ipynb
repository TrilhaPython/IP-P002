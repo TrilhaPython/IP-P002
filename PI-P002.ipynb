{
 "cells": [
  {
   "cell_type": "markdown",
   "id": "c6e769b8",
   "metadata": {},
   "source": [
    "## Exercício 1"
   ]
  },
  {
   "cell_type": "code",
   "execution_count": 7,
   "id": "42ecab51",
   "metadata": {},
   "outputs": [
    {
     "name": "stdout",
     "output_type": "stream",
     "text": [
      "462 µs ± 25 µs per loop (mean ± std. dev. of 7 runs, 1,000 loops each)\n",
      "81.7 µs ± 6.32 µs per loop (mean ± std. dev. of 7 runs, 10,000 loops each)\n",
      "80.7 µs ± 8.09 µs per loop (mean ± std. dev. of 7 runs, 10,000 loops each)\n",
      "610 µs ± 53.1 µs per loop (mean ± std. dev. of 7 runs, 1,000 loops each)\n",
      "83.5 µs ± 3.58 µs per loop (mean ± std. dev. of 7 runs, 10,000 loops each)\n",
      "90.5 µs ± 4.84 µs per loop (mean ± std. dev. of 7 runs, 10,000 loops each)\n"
     ]
    }
   ],
   "source": [
    "import random\n",
    "import statistics\n",
    "\n",
    "class ListaIdade:\n",
    "    def __init__(self, lista):\n",
    "        self.lista = lista\n",
    "\n",
    "    def mostraMediana(self):\n",
    "        return statistics.median(self.lista)\n",
    "\n",
    "    def mostraMenor(self):\n",
    "        return min(self.lista)\n",
    "\n",
    "    def mostraMaior(self):\n",
    "        return max(self.lista)\n",
    "\n",
    "def geraListaIdade(n, iMin=18, iMax=65):\n",
    "    lista_idades = [random.randint(iMin, iMax) for _ in range(n)]\n",
    "    return ListaIdade(lista_idades)\n",
    "\n",
    "class ListaSalarios:\n",
    "    def __init__(self, lista):\n",
    "        self.lista = lista\n",
    "\n",
    "    def mostraMediana(self):\n",
    "        return statistics.median(self.lista)\n",
    "\n",
    "    def mostraMenor(self):\n",
    "        return min(self.lista)\n",
    "\n",
    "    def mostraMaior(self):\n",
    "        return max(self.lista)\n",
    "\n",
    "def geraListaSalarios(n, sMin=1000, sMax=5000):\n",
    "    lista_salarios = [round(random.uniform(sMin, sMax), 2) for _ in range(n)]\n",
    "    return ListaSalarios(lista_salarios)\n",
    "\n",
    "# Testando ListaIdade\n",
    "idades_obj = geraListaIdade(5000)\n",
    "\n",
    "# Tempo para mostrar a mediana\n",
    "%timeit idades_obj.mostraMediana()\n",
    "\n",
    "# Tempo para mostrar o menor valor\n",
    "%timeit idades_obj.mostraMenor()\n",
    "\n",
    "# Tempo para mostrar o maior valor\n",
    "%timeit idades_obj.mostraMaior()\n",
    "\n",
    "# Testando ListaSalarios\n",
    "salarios_obj = geraListaSalarios(5000)\n",
    "\n",
    "# Tempo para mostrar a mediana\n",
    "%timeit salarios_obj.mostraMediana()\n",
    "\n",
    "# Tempo para mostrar o menor valor\n",
    "%timeit salarios_obj.mostraMenor()\n",
    "\n",
    "# Tempo para mostrar o maior valor\n",
    "%timeit salarios_obj.mostraMaior()\n"
   ]
  },
  {
   "cell_type": "markdown",
   "id": "f5ff689a",
   "metadata": {},
   "source": [
    "## Exercício 2"
   ]
  },
  {
   "cell_type": "code",
   "execution_count": 9,
   "id": "a5fc729f",
   "metadata": {},
   "outputs": [
    {
     "name": "stdout",
     "output_type": "stream",
     "text": [
      "Tempo para gerar ListaIdade com NumPy: 0.0004863739013671875\n",
      "Tempo para gerar ListaSalarios com NumPy: 0.0010166168212890625\n"
     ]
    }
   ],
   "source": [
    "import numpy as np\n",
    "import random\n",
    "import statistics\n",
    "import time\n",
    "\n",
    "class ListaIdade:\n",
    "    def __init__(self, lista):\n",
    "        self.lista = lista\n",
    "\n",
    "    def mostraMediana(self):\n",
    "        return statistics.median(self.lista)\n",
    "\n",
    "    def mostraMenor(self):\n",
    "        return min(self.lista)\n",
    "\n",
    "    def mostraMaior(self):\n",
    "        return max(self.lista)\n",
    "\n",
    "def geraListaIdade_numpy(n, iMin=18, iMax=65):\n",
    "    lista_idades = np.random.randint(iMin, iMax + 1, n)\n",
    "    return ListaIdade(lista_idades)\n",
    "\n",
    "start_time = time.time()\n",
    "idades_obj_numpy = geraListaIdade_numpy(5000)\n",
    "end_time = time.time()\n",
    "print(\"Tempo para gerar ListaIdade com NumPy:\", end_time - start_time)\n",
    "\n",
    "class ListaSalarios:\n",
    "    def __init__(self, lista):\n",
    "        self.lista = lista\n",
    "\n",
    "    def mostraMediana(self):\n",
    "        return statistics.median(self.lista)\n",
    "\n",
    "    def mostraMenor(self):\n",
    "        return min(self.lista)\n",
    "\n",
    "    def mostraMaior(self):\n",
    "        return max(self.lista)\n",
    "\n",
    "# Função para gerar ListaSalarios usando NumPy\n",
    "def geraListaSalarios_numpy(n, sMin=1000, sMax=5000):\n",
    "    lista_salarios = np.random.uniform(sMin, sMax, n).round(2)\n",
    "    return ListaSalarios(lista_salarios)\n",
    "\n",
    "# Medindo o tempo de execução para gerar ListaSalarios com NumPy\n",
    "start_time = time.time()\n",
    "salarios_obj_numpy = geraListaSalarios_numpy(5000)\n",
    "end_time = time.time()\n",
    "print(\"Tempo para gerar ListaSalarios com NumPy:\", end_time - start_time)\n"
   ]
  },
  {
   "cell_type": "code",
   "execution_count": null,
   "id": "059da30d",
   "metadata": {},
   "outputs": [],
   "source": []
  }
 ],
 "metadata": {
  "kernelspec": {
   "display_name": "Python 3 (ipykernel)",
   "language": "python",
   "name": "python3"
  },
  "language_info": {
   "codemirror_mode": {
    "name": "ipython",
    "version": 3
   },
   "file_extension": ".py",
   "mimetype": "text/x-python",
   "name": "python",
   "nbconvert_exporter": "python",
   "pygments_lexer": "ipython3",
   "version": "3.11.5"
  }
 },
 "nbformat": 4,
 "nbformat_minor": 5
}
